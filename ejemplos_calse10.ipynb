{
 "cells": [
  {
   "cell_type": "markdown",
   "metadata": {},
   "source": [
    "**Ejemplo 1:** Partes de *while*"
   ]
  },
  {
   "cell_type": "code",
   "execution_count": 1,
   "metadata": {},
   "outputs": [
    {
     "name": "stdout",
     "output_type": "stream",
     "text": [
      "0\n",
      "1\n",
      "2\n",
      "3\n",
      "4\n",
      "5\n",
      "6\n"
     ]
    }
   ],
   "source": [
    "i = 0 #<inicia>\n",
    "while(i <= 6): #<cond>\n",
    "  print(i) #<bloque>\n",
    "  i = i + 1 #<actualiza> "
   ]
  },
  {
   "cell_type": "markdown",
   "metadata": {},
   "source": [
    "**Ejemplo 2:** *while* con dos variables"
   ]
  },
  {
   "cell_type": "code",
   "execution_count": 2,
   "metadata": {},
   "outputs": [
    {
     "name": "stdout",
     "output_type": "stream",
     "text": [
      "2, 25\n",
      "4, 35\n",
      "8, 45\n",
      "16, 55\n",
      "32, 65\n",
      "64, 75\n",
      "the end.\n",
      "128, 85\n"
     ]
    }
   ],
   "source": [
    "i = 2 # inicializa a i en 2\n",
    "j = 25 # inicializa a j en 25\n",
    "while i < j: # mientras i sea menor a j\n",
    "  print(i, j, sep = \", \") # imprime los valores de i y j usando el parámetro separador \n",
    "  i *= 2 # i = i * 2; i se multiplica por 2 en cada paso\n",
    "  j += 10 # j = j + 10; se incrementa de 10 en 10\n",
    "print(\"the end.\") # se ejecuta al terminar el ciclo\n",
    "print(i, j, sep = \", \") # valores finales de i y j"
   ]
  },
  {
   "cell_type": "markdown",
   "metadata": {},
   "source": [
    "**Ejercicio 3:** Diseñe un algoritmo que pida un valor entero, y que siga leyendo valores enteros, mientras que alguno de esos valores no represente el código ASCII de una letra mayúscula en el abc del inglés."
   ]
  },
  {
   "cell_type": "code",
   "execution_count": 13,
   "metadata": {},
   "outputs": [
    {
     "name": "stdout",
     "output_type": "stream",
     "text": [
      "El entero corresponde al carácter \u0004\n",
      "El entero corresponde al carácter \u0006\n",
      "El entero corresponde al carácter \n",
      "\n",
      "El entero corresponde al carácter ¾\n",
      "El entero corresponde al carácter F\n"
     ]
    }
   ],
   "source": [
    "num : int = 0\n",
    "while num < 65 or num > 90:\n",
    "  num = int(input(\"Ingrese un entero: \"))\n",
    "  print(\"El entero corresponde al carácter \" + chr(num))\n"
   ]
  },
  {
   "cell_type": "markdown",
   "metadata": {},
   "source": [
    "**Ejemplo 4:** Implementar el ejercicio 4 usando un *do while* con bandera."
   ]
  },
  {
   "cell_type": "code",
   "execution_count": 2,
   "metadata": {},
   "outputs": [
    {
     "name": "stdout",
     "output_type": "stream",
     "text": [
      "El entero corresponde al carácter \n",
      "\n",
      "El entero corresponde al carácter <\n",
      "El entero corresponde al carácter K\n"
     ]
    }
   ],
   "source": [
    "bandera : bool = True\n",
    "while bandera or (num < 65 or num > 90):\n",
    "  bandera = False\n",
    "  num = int(input(\"Ingrese un entero: \"))\n",
    "  print(\"El entero corresponde al carácter \" + chr(num))\n",
    "  "
   ]
  },
  {
   "cell_type": "markdown",
   "metadata": {},
   "source": [
    "**Ejemplo 5:** Hacer un programa que imprima los números del 1 al 10, exceptuando el 5."
   ]
  },
  {
   "cell_type": "code",
   "execution_count": 5,
   "metadata": {},
   "outputs": [
    {
     "name": "stdout",
     "output_type": "stream",
     "text": [
      "1\n",
      "2\n",
      "3\n",
      "4\n",
      "6\n",
      "7\n",
      "8\n",
      "9\n",
      "10\n"
     ]
    }
   ],
   "source": [
    "i : int = 0 \n",
    "while(i < 10): \n",
    "  i += 1 \n",
    "  if i == 5: \n",
    "    continue\n",
    "  print(i) "
   ]
  },
  {
   "cell_type": "markdown",
   "metadata": {},
   "source": [
    "**Ejemplo 6:** Desarrollar un programa que lea números enteros y los sume hasta que lea un cero (0)."
   ]
  },
  {
   "cell_type": "code",
   "execution_count": 6,
   "metadata": {},
   "outputs": [
    {
     "name": "stdout",
     "output_type": "stream",
     "text": [
      "La suma de los números ingresados es 10\n",
      "La suma de los números ingresados es 25\n",
      "La suma de los números ingresados es 88\n",
      "La suma de los números ingresados es 0\n",
      "La suma de los números ingresados es -56\n",
      "La suma de los números ingresados es -46\n",
      "La suma de los números ingresados es -46\n"
     ]
    }
   ],
   "source": [
    "sum : int = 0\n",
    "while True:\n",
    "  num = int(input(\"Ingrese un entero o  0 para salir: \"))\n",
    "  if num == 0:\n",
    "    break\n",
    "  sum += num\n",
    "  print(\"La suma de los números ingresados es \" + str(sum))\n",
    "print(\"Ciclo terminado\")"
   ]
  },
  {
   "cell_type": "markdown",
   "metadata": {},
   "source": [
    "**Ejemplo 7:**"
   ]
  },
  {
   "cell_type": "code",
   "execution_count": 10,
   "metadata": {},
   "outputs": [
    {
     "name": "stdout",
     "output_type": "stream",
     "text": [
      "La suma de los números ingresados es 10\n",
      "True\n",
      "La suma de los números ingresados es 15\n",
      "True\n",
      "La suma de los números ingresados es 20\n",
      "True\n",
      "La suma de los números ingresados es 20\n",
      "False\n",
      "Ciclo terminado\n"
     ]
    }
   ],
   "source": [
    "sum : int = 0\n",
    "bandera : bool = True\n",
    "while bandera or num != 0:\n",
    "  bandera = False\n",
    "  num = int(input(\"Ingrese un entero o  0 para salir: \"))\n",
    "  sum += num\n",
    "  print(\"La suma de los números ingresados es \" + str(sum))\n",
    "print(\"Ciclo terminado\")"
   ]
  },
  {
   "cell_type": "markdown",
   "metadata": {},
   "source": []
  }
 ],
 "metadata": {
  "kernelspec": {
   "display_name": "Python 3.8.9 64-bit",
   "language": "python",
   "name": "python3"
  },
  "language_info": {
   "codemirror_mode": {
    "name": "ipython",
    "version": 3
   },
   "file_extension": ".py",
   "mimetype": "text/x-python",
   "name": "python",
   "nbconvert_exporter": "python",
   "pygments_lexer": "ipython3",
   "version": "3.8.9"
  },
  "orig_nbformat": 4,
  "vscode": {
   "interpreter": {
    "hash": "570feb405e2e27c949193ac68f46852414290d515b0ba6e5d90d076ed2284471"
   }
  }
 },
 "nbformat": 4,
 "nbformat_minor": 2
}
